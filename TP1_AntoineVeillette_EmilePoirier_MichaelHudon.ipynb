{
 "cells": [
  {
   "cell_type": "code",
   "execution_count": 54,
   "id": "5eea578f-df11-4671-9466-1557fb4d4525",
   "metadata": {},
   "outputs": [],
   "source": [
    "# import des constantes necessaires\n",
    "from scipy.constants import Avogadro, c, m_e, m_p\n",
    "import numpy as np # get down babyyyyy\n",
    "import matplotlib.pyplot as plt # beaux graphiques stylé"
   ]
  },
  {
   "cell_type": "markdown",
   "id": "845b94b1-924c-4e3f-939a-9d5372e149dd",
   "metadata": {},
   "source": [
    "# Q1\n",
    "Exprimez la densité électronique $n_e$ d’un milieu en fonction de sa composition atomique et de sa masse volumique $\\rho$, et calculer $n_e$ pour l’eau (liquide) et l’os compact (définition de l’ICRU). On s’appuiera sur les données du NIST pour les compositions atomiques de ces matériaux."
   ]
  },
  {
   "cell_type": "code",
   "execution_count": 58,
   "id": "70768988-3f93-43ce-af4d-526092f76dca",
   "metadata": {},
   "outputs": [],
   "source": [
    "# fonction pour le calcul de n_e, source : chatgpt\n",
    "n_e = lambda atomic_numbers, fractions_by_weight, rho, A: rho * Avogadro * np.sum(atomic_numbers * fractions_by_weight/A)\n",
    "\n",
    "rho_bone = 1.85 #g/cm^3\n",
    "atomic_numbers_bone = np.array([1, 6, 7, 8, 12, 15, 16, 20])\n",
    "fractions_by_weight_bone = np.array([0.063984, 0.278000, 0.027000, 0.410016, 0.002000, 0.070000, 0.002000, 0.147000])\n",
    "A_bone = np.array([1.008, 12.011, 14.007, 15.999, 24.305, 30.974, 32.065, 40.078])\n",
    "I_bone = 91.9 # eV\n",
    "\n",
    "n_e_bone = n_e(atomic_numbers_bone, fractions_by_weight_bone, rho_bone, A_bone)\n",
    "\n",
    "rho_water = 1\n",
    "I_water = 75 # eV\n",
    "A_water = np.array([1.008, 15.999])\n",
    "atomic_numbers_water = np.array([1, 8])\n",
    "fractions_by_weight_water = np.array([0.111894, 0.888106])\n",
    "\n",
    "n_e_water = n_e(atomic_numbers_water, fractions_by_weight_water, rho_water, A_water)"
   ]
  },
  {
   "cell_type": "markdown",
   "id": "4b5f387f-84da-4393-8dd6-537cf5f205e7",
   "metadata": {},
   "source": [
    "# Q2"
   ]
  },
  {
   "cell_type": "code",
   "execution_count": 57,
   "id": "b44ec6c2-ef77-4f06-9d88-9754f3d89696",
   "metadata": {},
   "outputs": [],
   "source": [
    "gamma = lambda T: T/(m_p*c**2) + 1\n",
    "def S_col(T, ):pass"
   ]
  },
  {
   "cell_type": "code",
   "execution_count": 42,
   "id": "b5e39d3f-e97a-4ef5-ae6d-52d0c2806ad9",
   "metadata": {},
   "outputs": [],
   "source": [
    "\n"
   ]
  },
  {
   "cell_type": "code",
   "execution_count": 51,
   "id": "3dddec4e-f886-45a0-bd13-557e1f784c89",
   "metadata": {},
   "outputs": [],
   "source": []
  },
  {
   "cell_type": "code",
   "execution_count": null,
   "id": "ec8ab842-fe24-4e1e-a735-f2ee647792c5",
   "metadata": {},
   "outputs": [],
   "source": []
  },
  {
   "cell_type": "code",
   "execution_count": null,
   "id": "20e21ebf-a043-42b3-b612-5e1e47286c55",
   "metadata": {},
   "outputs": [],
   "source": []
  },
  {
   "cell_type": "code",
   "execution_count": null,
   "id": "0c94dff3-135a-4233-af9a-15d0ba54a0a1",
   "metadata": {},
   "outputs": [],
   "source": []
  },
  {
   "cell_type": "code",
   "execution_count": 52,
   "id": "61e4c6b3-f87e-468e-a85b-8449689460f0",
   "metadata": {},
   "outputs": [
    {
     "data": {
      "text/plain": [
       "3.342810286137214e+23"
      ]
     },
     "execution_count": 52,
     "metadata": {},
     "output_type": "execute_result"
    }
   ],
   "source": [
    "n_e_water"
   ]
  },
  {
   "cell_type": "code",
   "execution_count": 53,
   "id": "4592f004-497d-4f90-93b2-89e4ed5d6b9b",
   "metadata": {},
   "outputs": [
    {
     "data": {
      "text/plain": [
       "5.905875865014682e+23"
      ]
     },
     "execution_count": 53,
     "metadata": {},
     "output_type": "execute_result"
    }
   ],
   "source": [
    "n_e_bone"
   ]
  },
  {
   "cell_type": "code",
   "execution_count": 48,
   "id": "f74b7f7c-63f3-4558-b703-02cce1d2dd50",
   "metadata": {},
   "outputs": [
    {
     "data": {
      "text/plain": [
       "1.67262192369e-27"
      ]
     },
     "execution_count": 48,
     "metadata": {},
     "output_type": "execute_result"
    }
   ],
   "source": [
    "m_p"
   ]
  },
  {
   "cell_type": "code",
   "execution_count": 49,
   "id": "a43574b7-aa47-49d3-8dc9-3b5be0c65cc6",
   "metadata": {},
   "outputs": [
    {
     "data": {
      "text/plain": [
       "9.1093837015e-31"
      ]
     },
     "execution_count": 49,
     "metadata": {},
     "output_type": "execute_result"
    }
   ],
   "source": [
    "m_e"
   ]
  },
  {
   "cell_type": "code",
   "execution_count": null,
   "id": "0dab3c27-9f37-46f1-bca0-7747bea7a41c",
   "metadata": {},
   "outputs": [],
   "source": []
  }
 ],
 "metadata": {
  "kernelspec": {
   "display_name": "Python 3 (ipykernel)",
   "language": "python",
   "name": "python3"
  },
  "language_info": {
   "codemirror_mode": {
    "name": "ipython",
    "version": 3
   },
   "file_extension": ".py",
   "mimetype": "text/x-python",
   "name": "python",
   "nbconvert_exporter": "python",
   "pygments_lexer": "ipython3",
   "version": "3.12.3"
  }
 },
 "nbformat": 4,
 "nbformat_minor": 5
}
